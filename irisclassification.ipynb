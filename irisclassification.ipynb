{
  "nbformat": 4,
  "nbformat_minor": 0,
  "metadata": {
    "colab": {
      "provenance": [],
      "authorship_tag": "ABX9TyOtuBLaPkgIqWZtVvr5z+tj",
      "include_colab_link": true
    },
    "kernelspec": {
      "name": "python3",
      "display_name": "Python 3"
    },
    "language_info": {
      "name": "python"
    }
  },
  "cells": [
    {
      "cell_type": "markdown",
      "metadata": {
        "id": "view-in-github",
        "colab_type": "text"
      },
      "source": [
        "<a href=\"https://colab.research.google.com/github/afreenunnisa03/CFDI./blob/main/irisclassification.ipynb\" target=\"_parent\"><img src=\"https://colab.research.google.com/assets/colab-badge.svg\" alt=\"Open In Colab\"/></a>"
      ]
    },
    {
      "cell_type": "code",
      "execution_count": null,
      "metadata": {
        "colab": {
          "base_uri": "https://localhost:8080/"
        },
        "id": "J_-BeADeOE5H",
        "outputId": "af613c83-1b27-4f37-d725-18a4f3229584"
      },
      "outputs": [
        {
          "output_type": "stream",
          "name": "stdout",
          "text": [
            "please supply valid input.....\n",
            "[5.  3.4 1.6 0.4] ======> setosa\n",
            "The training dataset legth: 120\n",
            "The testing dataset legth: 30\n",
            "please supply valid input.....\n",
            "[4.6 3.6 1.  0.2] ======> setosa\n",
            "The training dataset legth: 120\n",
            "The testing dataset legth: 30\n"
          ]
        }
      ],
      "source": [
        "from sklearn.neighbors import KNeighborsClassifier\n",
        "from sklearn.model_selection import train_test_split\n",
        "from sklearn.datasets import load_iris\n",
        "import random\n",
        "\n",
        "#loading data\n",
        "data_iris=load_iris()\n",
        "\n",
        "\n",
        "#to get list of target names\n",
        "label_target=data_iris.target_names\n",
        "print()\n",
        "print(\"sample data from  iris dataset\")\n",
        "print(\"*\"*30)\n",
        "\n",
        "#to display the sample data from the iris dataset\n",
        "for i in range(10):\n",
        "  rn=random.randint(0,120)\n",
        "  print(data_iris.data[rn],\"======>\",label_target[data_iris.target[rn]])\n",
        "\n",
        "\n",
        "#Create feature and taret arrays\n",
        "  x=data_iris.data\n",
        "  y=data_iris.target\n",
        "\n",
        "\n",
        "#split into training and testing set\n",
        "  x_train,x_test,y_train,y_test=train_test_split(x,y,test_size=0.2,random_state=8)\n",
        "\n",
        "  print(\"The training dataset legth:\",len(x_train))\n",
        "  print(\"The testing dataset legth:\",len(x_test))\n",
        "\n",
        "  try:\n",
        "    nn=int(input(\"enter number of neighbors:\"))\n",
        "    knn=KNeighborsClassifier(nn)\n",
        "\n",
        "    knn.fit(x_train,y_train)\n",
        "\n",
        "#to test the data from user\n",
        "    test_data=input(\"enter test data:\").split(',')\n",
        "    for i in range(len(test_data)):\n",
        "      test_data[i]=float(test_data[i])\n",
        "    print()\n",
        "\n",
        "    v=knn.predict([test_data])\n",
        "    print('predicted output',label_target[v])\n",
        "  except:\n",
        "    print(\"please supply valid input.....\")"
      ]
    },
    {
      "cell_type": "code",
      "source": [],
      "metadata": {
        "id": "ZXy8KohcRlTJ"
      },
      "execution_count": null,
      "outputs": []
    }
  ]
}